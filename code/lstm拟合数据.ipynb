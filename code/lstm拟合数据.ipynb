{
 "cells": [
  {
   "cell_type": "code",
   "execution_count": 194,
   "id": "281a78c7",
   "metadata": {
    "scrolled": true
   },
   "outputs": [],
   "source": [
    "import numpy as np\n",
    "import matplotlib.pyplot as plt\n",
    "from sklearn.model_selection import train_test_split\n",
    "from tensorflow.keras import layers, Sequential,models"
   ]
  },
  {
   "cell_type": "code",
   "execution_count": 213,
   "id": "82c67fb4",
   "metadata": {},
   "outputs": [
    {
     "data": {
      "image/png": "[encoded data removed]",
      "text/plain": [
       "<Figure size 432x288 with 1 Axes>"
      ]
     },
     "metadata": {
      "needs_background": "light"
     },
     "output_type": "display_data"
    }
   ],
   "source": [
    "# 模拟数据\n",
    "x = np.arange(1,10,0.1)\n",
    "y = np.exp(-x)\n",
    "y_noise = y + np.random.normal(size=y.shape)*0.005\n",
    "plt.plot(x,y,label=\"y\")\n",
    "plt.plot(x,y_noise,label=\"y_noise\")\n",
    "plt.legend()\n",
    "plt.show()"
   ]
  },
  {
   "cell_type": "code",
   "execution_count": 214,
   "id": "f416ebcc",
   "metadata": {},
   "outputs": [],
   "source": [
    "# 自监督构建数据集\n",
    "def create_data(y_noise,time_stamp = 10):\n",
    "    data = []\n",
    "    labels = []\n",
    "    for i in range(time_stamp, len(y_noise)):\n",
    "        data.append(y_noise[i-time_stamp:i])\n",
    "        labels.append(y_noise[i])\n",
    "    data,labels = np.array(data),np.array(labels)\n",
    "    data,labels = np.expand_dims(data,axis=-1),np.expand_dims(labels,axis=-1)\n",
    "    print(f\"data.shape:{data.shape} labels.shape:{labels.shape}\")\n",
    "    return data,labels"
   ]
  },
  {
   "cell_type": "code",
   "execution_count": 215,
   "id": "5bd65236",
   "metadata": {},
   "outputs": [
    {
     "name": "stdout",
     "output_type": "stream",
     "text": [
      "data.shape:(80, 10, 1) labels.shape:(80, 1)\n"
     ]
    }
   ],
   "source": [
    "data,labels=create_data(y_noise)"
   ]
  },
  {
   "cell_type": "code",
   "execution_count": 216,
   "id": "8ebededb",
   "metadata": {},
   "outputs": [
    {
     "name": "stdout",
     "output_type": "stream",
     "text": [
      "train_X.shape:(56, 10, 1) train_y.shape:(56, 1)\n",
      "test_X.shape:(24, 10, 1) test_y.shape:(24, 1)\n"
     ]
    }
   ],
   "source": [
    "# 数据划分\n",
    "train_X,test_X,train_y,test_y = train_test_split(data,labels,test_size=0.3,random_state=17)\n",
    "print(f\"train_X.shape:{train_X.shape} train_y.shape:{train_y.shape}\")\n",
    "print(f\"test_X.shape:{test_X.shape} test_y.shape:{test_y.shape}\")"
   ]
  },
  {
   "cell_type": "markdown",
   "id": "f96293e2",
   "metadata": {},
   "source": [
    "# 模型构建"
   ]
  },
  {
   "cell_type": "code",
   "execution_count": 217,
   "id": "72548cb1",
   "metadata": {},
   "outputs": [
    {
     "name": "stdout",
     "output_type": "stream",
     "text": [
      "Model: \"sequential_8\"\n",
      "_________________________________________________________________\n",
      " Layer (type)                Output Shape              Param #   \n",
      "=================================================================\n",
      " lstm_16 (LSTM)              (None, 10, 100)           40800     \n",
      "                                                                 \n",
      " lstm_17 (LSTM)              (None, 50)                30200     \n",
      "                                                                 \n",
      " dense_8 (Dense)             (None, 1)                 51        \n",
      "                                                                 \n",
      "=================================================================\n",
      "Total params: 71,051\n",
      "Trainable params: 71,051\n",
      "Non-trainable params: 0\n",
      "_________________________________________________________________\n"
     ]
    }
   ],
   "source": [
    "# 超参数\n",
    "epochs = 30\n",
    "batch_size = 16\n",
    "# LSTM 参数: return_sequences=True LSTM输出为一个序列。默认为False，输出一个值。\n",
    "# input_dim： 输入单个样本特征值的维度\n",
    "# input_length： 输入的时间点长度\n",
    "model = Sequential()\n",
    "model.add(layers.LSTM(units=100, return_sequences=True, input_dim=train_X.shape[-1], input_length=train_X.shape[1]))\n",
    "model.add(layers.LSTM(units=50))\n",
    "model.add(layers.Dense(1))\n",
    "model.compile(loss='mean_squared_error', optimizer='adam')\n",
    "model.summary()"
   ]
  },
  {
   "cell_type": "code",
   "execution_count": 218,
   "id": "e50935d2",
   "metadata": {
    "scrolled": true
   },
   "outputs": [
    {
     "name": "stdout",
     "output_type": "stream",
     "text": [
      "Epoch 1/30\n",
      "4/4 [==============================] - 2s 9ms/step - loss: 9.6692e-04\n",
      "Epoch 2/30\n",
      "4/4 [==============================] - 0s 8ms/step - loss: 2.9946e-04\n",
      "Epoch 3/30\n",
      "4/4 [==============================] - 0s 9ms/step - loss: 1.1287e-04\n",
      "Epoch 4/30\n",
      "4/4 [==============================] - 0s 9ms/step - loss: 1.5853e-04\n",
      "Epoch 5/30\n",
      "4/4 [==============================] - 0s 9ms/step - loss: 4.9443e-05\n",
      "Epoch 6/30\n",
      "4/4 [==============================] - 0s 9ms/step - loss: 6.6044e-05\n",
      "Epoch 7/30\n",
      "4/4 [==============================] - 0s 9ms/step - loss: 9.4285e-05\n",
      "Epoch 8/30\n",
      "4/4 [==============================] - 0s 8ms/step - loss: 5.2621e-05\n",
      "Epoch 9/30\n",
      "4/4 [==============================] - 0s 9ms/step - loss: 3.8215e-05\n",
      "Epoch 10/30\n",
      "4/4 [==============================] - 0s 9ms/step - loss: 2.7571e-05\n",
      "Epoch 11/30\n",
      "4/4 [==============================] - 0s 9ms/step - loss: 4.7928e-05\n",
      "Epoch 12/30\n",
      "4/4 [==============================] - 0s 9ms/step - loss: 2.6082e-05\n",
      "Epoch 13/30\n",
      "4/4 [==============================] - 0s 8ms/step - loss: 2.8019e-05\n",
      "Epoch 14/30\n",
      "4/4 [==============================] - 0s 9ms/step - loss: 2.8961e-05\n",
      "Epoch 15/30\n",
      "4/4 [==============================] - 0s 8ms/step - loss: 2.3221e-05\n",
      "Epoch 16/30\n",
      "4/4 [==============================] - 0s 8ms/step - loss: 2.2246e-05\n",
      "Epoch 17/30\n",
      "4/4 [==============================] - 0s 8ms/step - loss: 2.3239e-05\n",
      "Epoch 18/30\n",
      "4/4 [==============================] - 0s 8ms/step - loss: 2.1706e-05\n",
      "Epoch 19/30\n",
      "4/4 [==============================] - 0s 8ms/step - loss: 2.3476e-05\n",
      "Epoch 20/30\n",
      "4/4 [==============================] - 0s 8ms/step - loss: 2.2095e-05\n",
      "Epoch 21/30\n",
      "4/4 [==============================] - 0s 8ms/step - loss: 2.3765e-05\n",
      "Epoch 22/30\n",
      "4/4 [==============================] - 0s 9ms/step - loss: 2.8262e-05\n",
      "Epoch 23/30\n",
      "4/4 [==============================] - 0s 8ms/step - loss: 3.1122e-05\n",
      "Epoch 24/30\n",
      "4/4 [==============================] - 0s 8ms/step - loss: 2.4314e-05\n",
      "Epoch 25/30\n",
      "4/4 [==============================] - 0s 9ms/step - loss: 2.3367e-05\n",
      "Epoch 26/30\n",
      "4/4 [==============================] - 0s 8ms/step - loss: 2.8323e-05\n",
      "Epoch 27/30\n",
      "4/4 [==============================] - 0s 9ms/step - loss: 2.3172e-05\n",
      "Epoch 28/30\n",
      "4/4 [==============================] - 0s 8ms/step - loss: 2.6041e-05\n",
      "Epoch 29/30\n",
      "4/4 [==============================] - 0s 8ms/step - loss: 2.2525e-05\n",
      "Epoch 30/30\n",
      "4/4 [==============================] - 0s 8ms/step - loss: 2.8861e-05\n"
     ]
    }
   ],
   "source": [
    "history = model.fit(train_X, train_y, epochs=epochs, batch_size=batch_size, verbose=1)"
   ]
  },
  {
   "cell_type": "code",
   "execution_count": 219,
   "id": "cbac2f21",
   "metadata": {},
   "outputs": [
    {
     "data": {
      "image/png": "[encoded data removed]",
      "text/plain": [
       "<Figure size 432x288 with 1 Axes>"
      ]
     },
     "metadata": {
      "needs_background": "light"
     },
     "output_type": "display_data"
    }
   ],
   "source": [
    "train_loss = history.history[\"loss\"]\n",
    "\n",
    "plt.plot(train_loss,label=\"train_loss\")\n",
    "plt.legend()\n",
    "plt.xlabel(\"epochs\")\n",
    "plt.ylabel(\"loss\")\n",
    "plt.show()"
   ]
  },
  {
   "cell_type": "code",
   "execution_count": 220,
   "id": "17a76572",
   "metadata": {},
   "outputs": [],
   "source": [
    "predict_y = model.predict(test_X)"
   ]
  },
  {
   "cell_type": "code",
   "execution_count": 221,
   "id": "32c82a79",
   "metadata": {},
   "outputs": [
    {
     "data": {
      "image/png": "[encoded data removed]",
      "text/plain": [
       "<Figure size 432x288 with 1 Axes>"
      ]
     },
     "metadata": {
      "needs_background": "light"
     },
     "output_type": "display_data"
    }
   ],
   "source": [
    "plt.plot(predict_y,label=\"predict\")\n",
    "plt.plot(test_y,label=\"true\")\n",
    "plt.legend()\n",
    "plt.show()"
   ]
  },
  {
   "cell_type": "code",
   "execution_count": 222,
   "id": "eb2f3a21",
   "metadata": {},
   "outputs": [],
   "source": [
    "predict = model.predict(data)"
   ]
  },
  {
   "cell_type": "code",
   "execution_count": 223,
   "id": "b332deb6",
   "metadata": {},
   "outputs": [
    {
     "data": {
      "image/png": "[encoded data removed]",
      "text/plain": [
       "<Figure size 432x288 with 1 Axes>"
      ]
     },
     "metadata": {
      "needs_background": "light"
     },
     "output_type": "display_data"
    }
   ],
   "source": [
    "plt.plot(predict,label=\"predict\")\n",
    "plt.plot(labels,label=\"true\")\n",
    "plt.legend()\n",
    "plt.show()"
   ]
  },
  {
   "cell_type": "markdown",
   "id": "99982a8c",
   "metadata": {},
   "source": [
    "# 预测新的数据"
   ]
  },
  {
   "cell_type": "code",
   "execution_count": 229,
   "id": "8cb8575e",
   "metadata": {},
   "outputs": [
    {
     "data": {
      "text/plain": [
       "[<matplotlib.lines.Line2D at 0x18d69f73f10>]"
      ]
     },
     "execution_count": 229,
     "metadata": {},
     "output_type": "execute_result"
    },
    {
     "data": {
      "image/png": "[encoded data removed]",
      "text/plain": [
       "<Figure size 432x288 with 1 Axes>"
      ]
     },
     "metadata": {
      "needs_background": "light"
     },
     "output_type": "display_data"
    }
   ],
   "source": [
    "x_not_look = np.arange(10,50,0.1)\n",
    "y_not_look = np.exp(-x_not_look)\n",
    "plt.plot(x_not_look,y_not_look)"
   ]
  },
  {
   "cell_type": "code",
   "execution_count": 230,
   "id": "607ecbe1",
   "metadata": {},
   "outputs": [
    {
     "name": "stdout",
     "output_type": "stream",
     "text": [
      "data.shape:(390, 10, 1) labels.shape:(390, 1)\n"
     ]
    }
   ],
   "source": [
    "data_not_look,labels_not_look = create_data(y_not_look)"
   ]
  },
  {
   "cell_type": "code",
   "execution_count": 231,
   "id": "2965e228",
   "metadata": {},
   "outputs": [
    {
     "data": {
      "text/plain": [
       "array([[[4.53999298e-05],\n",
       "        [4.10795552e-05],\n",
       "        [3.71703187e-05],\n",
       "        [3.36330952e-05],\n",
       "        [3.04324830e-05],\n",
       "        [2.75364493e-05],\n",
       "        [2.49160097e-05],\n",
       "        [2.25449379e-05],\n",
       "        [2.03995034e-05],\n",
       "        [1.84582340e-05]]])"
      ]
     },
     "execution_count": 231,
     "metadata": {},
     "output_type": "execute_result"
    }
   ],
   "source": [
    "np.expand_dims(data_not_look[0],axis=0)"
   ]
  },
  {
   "cell_type": "code",
   "execution_count": 232,
   "id": "51a43d69",
   "metadata": {},
   "outputs": [
    {
     "data": {
      "text/plain": [
       "[4.5399929762484854e-05,\n",
       " 4.1079555225300724e-05,\n",
       " 3.7170318684126734e-05,\n",
       " 3.363309518571903e-05,\n",
       " 3.043248300840368e-05,\n",
       " 2.7536449349747206e-05,\n",
       " 2.491600973150325e-05,\n",
       " 2.254493791321225e-05,\n",
       " 2.0399503411171993e-05,\n",
       " 1.8458233995780623e-05,\n",
       " -0.00042928604,\n",
       " -0.00044436345,\n",
       " -0.00046905398,\n",
       " -0.0005002029,\n",
       " -0.00053535774,\n",
       " -0.0005727331,\n",
       " -0.00061109057,\n",
       " -0.00064960844,\n",
       " -0.0006877625,\n",
       " -0.0007252353,\n",
       " -0.0007618456,\n",
       " -0.0007810219,\n",
       " -0.0008007367,\n",
       " -0.0008201224,\n",
       " -0.00083863083,\n",
       " -0.00085594226,\n",
       " -0.00087189395,\n",
       " -0.0008864235,\n",
       " -0.0008995293,\n",
       " -0.0009112448,\n",
       " -0.0009216225,\n",
       " -0.0009307243,\n",
       " -0.00093922263,\n",
       " -0.00094704935,\n",
       " -0.00095419434,\n",
       " -0.00096068066,\n",
       " -0.0009665517,\n",
       " -0.0009718578,\n",
       " -0.0009766524,\n",
       " -0.0009809887,\n",
       " -0.0009849163,\n",
       " -0.0009884838,\n",
       " -0.0009917339,\n",
       " -0.0009946863,\n",
       " -0.0009973627,\n",
       " -0.0009997884,\n",
       " -0.0010019859,\n",
       " -0.0010039778,\n",
       " -0.0010057845,\n",
       " -0.0010074229,\n",
       " -0.0010089097,\n",
       " -0.0010102586,\n",
       " -0.001011483,\n",
       " -0.0010125936,\n",
       " -0.0010136,\n",
       " -0.0010145131,\n",
       " -0.0010153411,\n",
       " -0.001016092,\n",
       " -0.0010167733,\n",
       " -0.0010173912,\n",
       " -0.0010179516,\n",
       " -0.00101846,\n",
       " -0.0010189211,\n",
       " -0.0010193394,\n",
       " -0.0010197187,\n",
       " -0.0010200628,\n",
       " -0.0010203748,\n",
       " -0.0010206576,\n",
       " -0.0010209143,\n",
       " -0.0010211475,\n",
       " -0.0010213585,\n",
       " -0.0010215503,\n",
       " -0.0010217237,\n",
       " -0.0010218812,\n",
       " -0.0010220243,\n",
       " -0.0010221538,\n",
       " -0.0010222715,\n",
       " -0.0010223781,\n",
       " -0.0010224746,\n",
       " -0.0010225626,\n",
       " -0.0010226422,\n",
       " -0.0010227141,\n",
       " -0.0010227798,\n",
       " -0.0010228391,\n",
       " -0.0010228934,\n",
       " -0.0010229419,\n",
       " -0.0010229864,\n",
       " -0.0010230263,\n",
       " -0.001023063,\n",
       " -0.0010230958,\n",
       " -0.0010231261,\n",
       " -0.0010231531,\n",
       " -0.0010231779,\n",
       " -0.0010232002,\n",
       " -0.0010232204,\n",
       " -0.0010232389,\n",
       " -0.0010232554,\n",
       " -0.0010232707,\n",
       " -0.0010232846,\n",
       " -0.001023297,\n",
       " -0.0010233084,\n",
       " -0.0010233185,\n",
       " -0.001023328,\n",
       " -0.0010233361,\n",
       " -0.001023344,\n",
       " -0.001023351,\n",
       " -0.0010233573,\n",
       " -0.0010233629,\n",
       " -0.001023368,\n",
       " -0.0010233728,\n",
       " -0.001023377,\n",
       " -0.0010233809,\n",
       " -0.001023384,\n",
       " -0.0010233875,\n",
       " -0.0010233899,\n",
       " -0.0010233929,\n",
       " -0.0010233953,\n",
       " -0.0010233977,\n",
       " -0.0010233993,\n",
       " -0.0010234009,\n",
       " -0.0010234029,\n",
       " -0.0010234042,\n",
       " -0.0010234055,\n",
       " -0.0010234069,\n",
       " -0.0010234079,\n",
       " -0.0010234088,\n",
       " -0.0010234095,\n",
       " -0.0010234102,\n",
       " -0.0010234113,\n",
       " -0.001023412,\n",
       " -0.0010234123,\n",
       " -0.0010234127,\n",
       " -0.0010234138,\n",
       " -0.0010234138,\n",
       " -0.0010234142,\n",
       " -0.001023415,\n",
       " -0.001023415,\n",
       " -0.0010234154,\n",
       " -0.0010234157,\n",
       " -0.001023416,\n",
       " -0.001023416,\n",
       " -0.0010234163,\n",
       " -0.0010234163,\n",
       " -0.0010234164,\n",
       " -0.0010234166,\n",
       " -0.0010234166,\n",
       " -0.0010234171,\n",
       " -0.0010234171,\n",
       " -0.0010234173,\n",
       " -0.0010234173,\n",
       " -0.0010234173,\n",
       " -0.0010234173,\n",
       " -0.0010234173,\n",
       " -0.0010234175,\n",
       " -0.0010234177,\n",
       " -0.0010234178,\n",
       " -0.0010234176,\n",
       " -0.0010234178,\n",
       " -0.0010234178,\n",
       " -0.0010234178,\n",
       " -0.0010234177,\n",
       " -0.0010234179,\n",
       " -0.0010234179,\n",
       " -0.001023418,\n",
       " -0.0010234182,\n",
       " -0.001023418,\n",
       " -0.0010234182,\n",
       " -0.0010234182,\n",
       " -0.001023418,\n",
       " -0.0010234179,\n",
       " -0.0010234182,\n",
       " -0.0010234183,\n",
       " -0.001023418,\n",
       " -0.001023418,\n",
       " -0.0010234179,\n",
       " -0.001023418,\n",
       " -0.0010234179,\n",
       " -0.001023418,\n",
       " -0.0010234182,\n",
       " -0.0010234183,\n",
       " -0.0010234183,\n",
       " -0.0010234182,\n",
       " -0.0010234183,\n",
       " -0.0010234183,\n",
       " -0.0010234183,\n",
       " -0.0010234183,\n",
       " -0.0010234183,\n",
       " -0.0010234184,\n",
       " -0.0010234185,\n",
       " -0.0010234184,\n",
       " -0.0010234183,\n",
       " -0.0010234184,\n",
       " -0.0010234184,\n",
       " -0.0010234184,\n",
       " -0.0010234184,\n",
       " -0.0010234184,\n",
       " -0.0010234184,\n",
       " -0.0010234184,\n",
       " -0.0010234184,\n",
       " -0.0010234184,\n",
       " -0.0010234184,\n",
       " -0.0010234184,\n",
       " -0.0010234184,\n",
       " -0.0010234184,\n",
       " -0.0010234184,\n",
       " -0.0010234184,\n",
       " -0.0010234184,\n",
       " -0.0010234184,\n",
       " -0.0010234184,\n",
       " -0.0010234184,\n",
       " -0.0010234184,\n",
       " -0.0010234184,\n",
       " -0.0010234184,\n",
       " -0.0010234184,\n",
       " -0.0010234184,\n",
       " -0.0010234184,\n",
       " -0.0010234184,\n",
       " -0.0010234184,\n",
       " -0.0010234184,\n",
       " -0.0010234184,\n",
       " -0.0010234184,\n",
       " -0.0010234184,\n",
       " -0.0010234184,\n",
       " -0.0010234184,\n",
       " -0.0010234184,\n",
       " -0.0010234184,\n",
       " -0.0010234184,\n",
       " -0.0010234184,\n",
       " -0.0010234184,\n",
       " -0.0010234184,\n",
       " -0.0010234184,\n",
       " -0.0010234184,\n",
       " -0.0010234184,\n",
       " -0.0010234184,\n",
       " -0.0010234184,\n",
       " -0.0010234184,\n",
       " -0.0010234184,\n",
       " -0.0010234184,\n",
       " -0.0010234184,\n",
       " -0.0010234184,\n",
       " -0.0010234184,\n",
       " -0.0010234184,\n",
       " -0.0010234184,\n",
       " -0.0010234184,\n",
       " -0.0010234184,\n",
       " -0.0010234184,\n",
       " -0.0010234184,\n",
       " -0.0010234184,\n",
       " -0.0010234184,\n",
       " -0.0010234184,\n",
       " -0.0010234184,\n",
       " -0.0010234184,\n",
       " -0.0010234184,\n",
       " -0.0010234184,\n",
       " -0.0010234184,\n",
       " -0.0010234184,\n",
       " -0.0010234184,\n",
       " -0.0010234184,\n",
       " -0.0010234184,\n",
       " -0.0010234184,\n",
       " -0.0010234184,\n",
       " -0.0010234184,\n",
       " -0.0010234184,\n",
       " -0.0010234184,\n",
       " -0.0010234184,\n",
       " -0.0010234184,\n",
       " -0.0010234184,\n",
       " -0.0010234184,\n",
       " -0.0010234184,\n",
       " -0.0010234184,\n",
       " -0.0010234184,\n",
       " -0.0010234184,\n",
       " -0.0010234184,\n",
       " -0.0010234184,\n",
       " -0.0010234184,\n",
       " -0.0010234184,\n",
       " -0.0010234184,\n",
       " -0.0010234184,\n",
       " -0.0010234184,\n",
       " -0.0010234184,\n",
       " -0.0010234184,\n",
       " -0.0010234184,\n",
       " -0.0010234184,\n",
       " -0.0010234184,\n",
       " -0.0010234184,\n",
       " -0.0010234184,\n",
       " -0.0010234184,\n",
       " -0.0010234184,\n",
       " -0.0010234184,\n",
       " -0.0010234184,\n",
       " -0.0010234184,\n",
       " -0.0010234184,\n",
       " -0.0010234184,\n",
       " -0.0010234184,\n",
       " -0.0010234184,\n",
       " -0.0010234184,\n",
       " -0.0010234184,\n",
       " -0.0010234184,\n",
       " -0.0010234184,\n",
       " -0.0010234184,\n",
       " -0.0010234184,\n",
       " -0.0010234184,\n",
       " -0.0010234184,\n",
       " -0.0010234184,\n",
       " -0.0010234184,\n",
       " -0.0010234184,\n",
       " -0.0010234184,\n",
       " -0.0010234184,\n",
       " -0.0010234184,\n",
       " -0.0010234184,\n",
       " -0.0010234184,\n",
       " -0.0010234184,\n",
       " -0.0010234184,\n",
       " -0.0010234184,\n",
       " -0.0010234184,\n",
       " -0.0010234184,\n",
       " -0.0010234184,\n",
       " -0.0010234184,\n",
       " -0.0010234184,\n",
       " -0.0010234184,\n",
       " -0.0010234184,\n",
       " -0.0010234184,\n",
       " -0.0010234184,\n",
       " -0.0010234184,\n",
       " -0.0010234184,\n",
       " -0.0010234184,\n",
       " -0.0010234184,\n",
       " -0.0010234184,\n",
       " -0.0010234184,\n",
       " -0.0010234184,\n",
       " -0.0010234184,\n",
       " -0.0010234184,\n",
       " -0.0010234184,\n",
       " -0.0010234184,\n",
       " -0.0010234184,\n",
       " -0.0010234184,\n",
       " -0.0010234184,\n",
       " -0.0010234184,\n",
       " -0.0010234184,\n",
       " -0.0010234184,\n",
       " -0.0010234184,\n",
       " -0.0010234184,\n",
       " -0.0010234184,\n",
       " -0.0010234184,\n",
       " -0.0010234184,\n",
       " -0.0010234184,\n",
       " -0.0010234184,\n",
       " -0.0010234184,\n",
       " -0.0010234184,\n",
       " -0.0010234184,\n",
       " -0.0010234184,\n",
       " -0.0010234184,\n",
       " -0.0010234184,\n",
       " -0.0010234184,\n",
       " -0.0010234184,\n",
       " -0.0010234184,\n",
       " -0.0010234184,\n",
       " -0.0010234184,\n",
       " -0.0010234184,\n",
       " -0.0010234184,\n",
       " -0.0010234184,\n",
       " -0.0010234184,\n",
       " -0.0010234184,\n",
       " -0.0010234184,\n",
       " -0.0010234184,\n",
       " -0.0010234184,\n",
       " -0.0010234184,\n",
       " -0.0010234184,\n",
       " -0.0010234184,\n",
       " -0.0010234184,\n",
       " -0.0010234184,\n",
       " -0.0010234184,\n",
       " -0.0010234184,\n",
       " -0.0010234184,\n",
       " -0.0010234184,\n",
       " -0.0010234184,\n",
       " -0.0010234184,\n",
       " -0.0010234184,\n",
       " -0.0010234184,\n",
       " -0.0010234184,\n",
       " -0.0010234184,\n",
       " -0.0010234184,\n",
       " -0.0010234184,\n",
       " -0.0010234184,\n",
       " -0.0010234184,\n",
       " -0.0010234184,\n",
       " -0.0010234184,\n",
       " -0.0010234184,\n",
       " -0.0010234184,\n",
       " -0.0010234184,\n",
       " -0.0010234184]"
      ]
     },
     "execution_count": 232,
     "metadata": {},
     "output_type": "execute_result"
    }
   ],
   "source": [
    "length = data_not_look.shape[0]\n",
    "x = np.expand_dims(data_not_look[0],axis=0)\n",
    "predict = list(x[0,:,0])\n",
    "\n",
    "head = 0\n",
    "tail = 10\n",
    "predict[head:tail]\n",
    "while(tail <= length):\n",
    "    temp = np.expand_dims(predict[head:tail],axis=0)\n",
    "    temp = np.expand_dims(temp,axis=-1)\n",
    "    predict.append(model.predict(temp)[0][0])\n",
    "    head += 1\n",
    "    tail += 1\n",
    "predict"
   ]
  },
  {
   "cell_type": "code",
   "execution_count": 233,
   "id": "95beda76",
   "metadata": {},
   "outputs": [
    {
     "data": {
      "image/png": "[encoded data removed]",
      "text/plain": [
       "<Figure size 432x288 with 1 Axes>"
      ]
     },
     "metadata": {
      "needs_background": "light"
     },
     "output_type": "display_data"
    }
   ],
   "source": [
    "plt.plot(predict,label=\"predict\")\n",
    "plt.plot(y_not_look,label=\"true\")\n",
    "plt.legend()\n",
    "plt.show()"
   ]
  },
  {
   "cell_type": "code",
   "execution_count": null,
   "id": "9a0e5cf8",
   "metadata": {},
   "outputs": [],
   "source": []
  },
  {
   "cell_type": "code",
   "execution_count": null,
   "id": "42bf87f4",
   "metadata": {},
   "outputs": [],
   "source": []
  }
 ],
 "metadata": {
  "kernelspec": {
   "display_name": "Python 3 (ipykernel)",
   "language": "python",
   "name": "python3"
  },
  "language_info": {
   "codemirror_mode": {
    "name": "ipython",
    "version": 3
   },
   "file_extension": ".py",
   "mimetype": "text/x-python",
   "name": "python",
   "nbconvert_exporter": "python",
   "pygments_lexer": "ipython3",
   "version": "3.8.12"
  }
 },
 "nbformat": 4,
 "nbformat_minor": 5
}
